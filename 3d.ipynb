{
 "cells": [
  {
   "cell_type": "code",
   "execution_count": 2,
   "metadata": {},
   "outputs": [],
   "source": [
    "from pathlib import Path\n",
    "import json\n",
    "from dataclasses import dataclass\n",
    "from PIL import Image\n",
    "\n",
    "\n",
    "@dataclass\n",
    "class Frame:\n",
    "    image: Image\n",
    "    matrix: list[list[float]]\n",
    "\n",
    "\n",
    "class Scene:\n",
    "    def __init__(self, path: Path):\n",
    "        with open(path / \"transforms.json\", \"r\") as f:\n",
    "            transforms = json.load(f)\n",
    "\n",
    "        self.frames = []\n",
    "        for frame in transforms[\"frames\"]:\n",
    "            image_path = path / frame[\"file_path\"]\n",
    "            if image_path.exists():\n",
    "                self.frames.append(\n",
    "                    Frame(Image.open(image_path), frame[\"transform_matrix\"])\n",
    "                )\n",
    "\n",
    "\n",
    "scene = Scene(Path(\"assets/fox\"))"
   ]
  },
  {
   "cell_type": "code",
   "execution_count": 3,
   "metadata": {},
   "outputs": [],
   "source": [
    "import torch as tch\n",
    "from torch import nn, functional as F\n",
    "import numpy as np"
   ]
  },
  {
   "cell_type": "code",
   "execution_count": 4,
   "metadata": {},
   "outputs": [],
   "source": [
    "dev = tch.device(\"cuda:0\")"
   ]
  },
  {
   "cell_type": "code",
   "execution_count": 5,
   "metadata": {},
   "outputs": [],
   "source": [
    "from typing import Callable\n",
    "\n",
    "\n",
    "def raymarch(\n",
    "    func: Callable[[tch.Tensor], tch.Tensor],\n",
    "    init_rays: tch.Tensor,\n",
    "    step_size: float,\n",
    "    max_distance: float,\n",
    ") -> tch.Tensor:\n",
    "    \"\"\"\n",
    "    Args:\n",
    "    + func(rays of shape (B, 6)) -> image of (B, 4)\n",
    "    + init_rays of shape: (B, 6) where last dim contains: [px, py, pz, dx, dy, dz]\n",
    "    + ...\n",
    "\n",
    "    Returns image of shape (B, 4) where last dim contains: [r, g, b, opacity]\n",
    "    \"\"\"\n",
    "\n",
    "    image_accum = tch.zeros((init_rays.shape[0], 4), device=init_rays.device)\n",
    "    distance = 0.0\n",
    "    while distance <= max_distance:\n",
    "        init_pos, dir = init_rays[:, :3], init_rays[:, 3:]\n",
    "        pos = init_pos + dir * distance\n",
    "        rays = tch.cat([pos, dir], -1)\n",
    "\n",
    "        image = func(rays)\n",
    "        color, opacity = image[:, :3], image[:, 3:]\n",
    "        old_color, old_opacity = image_accum[:, :3], image_accum[:, 3:]\n",
    "        factor = (1.0 - old_opacity) * opacity\n",
    "        new_color = old_color + factor * color\n",
    "        new_opacity = old_opacity + factor\n",
    "        image_accum = tch.cat([new_color, new_opacity], dim=-1)\n",
    "\n",
    "        distance += step_size\n",
    "\n",
    "    return image_accum\n"
   ]
  },
  {
   "cell_type": "code",
   "execution_count": 6,
   "metadata": {},
   "outputs": [
    {
     "data": {
      "text/plain": [
       "tensor([[ 0.0000,  0.0000, -4.0000, -0.3333, -0.3333,  0.3333],\n",
       "        [ 0.0000,  0.0000, -4.0000, -0.3351, -0.3325,  0.3351],\n",
       "        [ 0.0000,  0.0000, -4.0000, -0.3368, -0.3315,  0.3368],\n",
       "        ...,\n",
       "        [ 0.0000,  0.0000, -4.0000,  0.3368,  0.3315,  0.3368],\n",
       "        [ 0.0000,  0.0000, -4.0000,  0.3351,  0.3325,  0.3351],\n",
       "        [ 0.0000,  0.0000, -4.0000,  0.3333,  0.3333,  0.3333]],\n",
       "       device='cuda:0')"
      ]
     },
     "execution_count": 6,
     "metadata": {},
     "output_type": "execute_result"
    }
   ],
   "source": [
    "from nerfpg import grid\n",
    "\n",
    "\n",
    "def pad_right(t: tch.Tensor, value: float, count: int = 1) -> tch.Tensor:\n",
    "    return tch.cat(\n",
    "        [t, tch.tensor(value, device=t.device).broadcast_to((*t.shape[:-1], count))],\n",
    "        dim=-1,\n",
    "    )\n",
    "\n",
    "\n",
    "def rays_grid(\n",
    "    transform: list[list[float]],\n",
    "    angles: tuple[float, float],\n",
    "    shape: tuple[int, int],\n",
    "    dev: tch.device,\n",
    ") -> tch.Tensor:\n",
    "    \"\"\"\n",
    "    Returned tensor shape: (shape[0], shape[1], 6)\n",
    "    \"\"\"\n",
    "    matrix = tch.tensor(transform, device=dev).transpose(0, 1)\n",
    "\n",
    "    dxy = (2.0 * grid(shape, dev) - 1.0)\n",
    "    dxy = dxy * (tch.tensor(angles, device=dev) / 2.0).tan()\n",
    "\n",
    "    dir = pad_right(dxy, 1.0)\n",
    "    dir = dir / dir.pow(2).sum(dim=-1, keepdim=True)  # normalize direction vectors\n",
    "    dir = tch.matmul(pad_right(dir, 0.0), matrix)[:, :, :3]\n",
    "\n",
    "    pos = matrix[3, :3].reshape((1, 1, 3)).broadcast_to((*shape, 3))\n",
    "    return tch.cat([pos, dir], dim=-1)\n",
    "\n",
    "\n",
    "res = (256, 256)\n",
    "distance = 4.0\n",
    "transform = [\n",
    "    [1.0, 0.0, 0.0, 0.0],\n",
    "    [0.0, 1.0, 0.0, 0.0],\n",
    "    [0.0, 0.0, 1.0, -distance],\n",
    "    [0.0, 0.0, 0.0, 1.0],\n",
    "]\n",
    "rays = rays_grid(transform, (np.pi / 2, np.pi / 2), res, dev).flatten(0, 1)\n",
    "rays"
   ]
  },
  {
   "cell_type": "code",
   "execution_count": 7,
   "metadata": {},
   "outputs": [
    {
     "data": {
      "text/plain": [
       "tensor([[1.0000e+00, 1.0000e+00, 1.0000e+00, 1.1254e-07],\n",
       "        [1.0000e+00, 1.0000e+00, 1.0000e+00, 1.1254e-07],\n",
       "        [1.0000e+00, 1.0000e+00, 1.0000e+00, 1.1254e-07],\n",
       "        ...,\n",
       "        [1.0000e+00, 1.0000e+00, 1.0000e+00, 1.1254e-07],\n",
       "        [1.0000e+00, 1.0000e+00, 1.0000e+00, 1.1254e-07],\n",
       "        [1.0000e+00, 1.0000e+00, 1.0000e+00, 1.1254e-07]], device='cuda:0')"
      ]
     },
     "execution_count": 7,
     "metadata": {},
     "output_type": "execute_result"
    }
   ],
   "source": [
    "def gaussian_fog(rays: tch.Tensor) -> tch.Tensor:\n",
    "    pos = rays[:, :3]\n",
    "    density = pos.pow(2).sum(dim=-1, keepdim=True).exp().reciprocal()\n",
    "    color = tch.tensor(1.0, device=rays.device).broadcast_to((density.shape[0], 3))\n",
    "    return tch.cat([color, density], dim=-1)\n",
    "\n",
    "\n",
    "gaussian_fog(rays)"
   ]
  },
  {
   "cell_type": "code",
   "execution_count": 8,
   "metadata": {},
   "outputs": [
    {
     "data": {
      "text/plain": [
       "tensor([[0.0071, 0.0071, 0.0071, 0.0071],\n",
       "        [0.0073, 0.0073, 0.0073, 0.0073],\n",
       "        [0.0075, 0.0075, 0.0075, 0.0075],\n",
       "        ...,\n",
       "        [0.0075, 0.0075, 0.0075, 0.0075],\n",
       "        [0.0073, 0.0073, 0.0073, 0.0073],\n",
       "        [0.0071, 0.0071, 0.0071, 0.0071]], device='cuda:0')"
      ]
     },
     "execution_count": 8,
     "metadata": {},
     "output_type": "execute_result"
    }
   ],
   "source": [
    "image = raymarch(gaussian_fog, rays, 0.01, 2.0 * distance)\n",
    "image"
   ]
  },
  {
   "cell_type": "code",
   "execution_count": 9,
   "metadata": {},
   "outputs": [
    {
     "data": {
      "image/jpeg": "[encoded data removed]",
      "image/png": "[encoded data removed]",
      "text/plain": [
       "<PIL.Image.Image image mode=RGB size=256x256>"
      ]
     },
     "execution_count": 9,
     "metadata": {},
     "output_type": "execute_result"
    }
   ],
   "source": [
    "from nerfpg import tensor_to_image\n",
    "\n",
    "tensor_to_image(image[:, :3].reshape(*res, 3).permute(2, 0, 1))"
   ]
  },
  {
   "cell_type": "code",
   "execution_count": null,
   "metadata": {},
   "outputs": [],
   "source": []
  }
 ],
 "metadata": {
  "kernelspec": {
   "display_name": ".venv",
   "language": "python",
   "name": "python3"
  },
  "language_info": {
   "codemirror_mode": {
    "name": "ipython",
    "version": 3
   },
   "file_extension": ".py",
   "mimetype": "text/x-python",
   "name": "python",
   "nbconvert_exporter": "python",
   "pygments_lexer": "ipython3",
   "version": "3.11.10"
  }
 },
 "nbformat": 4,
 "nbformat_minor": 2
}
